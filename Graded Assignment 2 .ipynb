{
 "cells": [
  {
   "cell_type": "code",
   "execution_count": 29,
   "id": "226b937b",
   "metadata": {},
   "outputs": [
    {
     "name": "stdout",
     "output_type": "stream",
     "text": [
      "   Year  Month  DayofMonth  DayOfWeek  DepTime  CRSDepTime  ArrTime  \\\n",
      "0  2000      1          28          5   1647.0        1647   1906.0   \n",
      "1  2000      1          29          6   1648.0        1647   1939.0   \n",
      "2  2000      1          30          7      NaN        1647      NaN   \n",
      "3  2000      1          31          1   1645.0        1647   1852.0   \n",
      "4  2000      1           1          6    842.0         846   1057.0   \n",
      "\n",
      "   CRSArrTime UniqueCarrier  FlightNum  ... TaxiIn  TaxiOut  Cancelled  \\\n",
      "0        1859            HP        154  ...     15       11          0   \n",
      "1        1859            HP        154  ...      5       47          0   \n",
      "2        1859            HP        154  ...      0        0          1   \n",
      "3        1859            HP        154  ...      7       14          0   \n",
      "4        1101            HP        609  ...      3        8          0   \n",
      "\n",
      "   CancellationCode  Diverted  CarrierDelay WeatherDelay NASDelay  \\\n",
      "0               NaN         0           NaN          NaN      NaN   \n",
      "1               NaN         0           NaN          NaN      NaN   \n",
      "2               NaN         0           NaN          NaN      NaN   \n",
      "3               NaN         0           NaN          NaN      NaN   \n",
      "4               NaN         0           NaN          NaN      NaN   \n",
      "\n",
      "   SecurityDelay  LateAircraftDelay  \n",
      "0            NaN                NaN  \n",
      "1            NaN                NaN  \n",
      "2            NaN                NaN  \n",
      "3            NaN                NaN  \n",
      "4            NaN                NaN  \n",
      "\n",
      "[5 rows x 29 columns]\n",
      "(5683047, 29)\n",
      "(1491, 2)\n"
     ]
    }
   ],
   "source": [
    "import sqlite3\n",
    "import os\n",
    "import pandas as pd\n",
    "\n",
    "# change to the directory where the files are stored\n",
    "os.chdir(\"/Users/christopherpang/Desktop/Main/SIM uni year 2/Programming for data science/Coursework/dataverse_files\")\n",
    "\n",
    "try:\n",
    "    os.remove('airline2.db')\n",
    "except OSError:\n",
    "    pass\n",
    "\n",
    "\n",
    "\n",
    "# ======= create database =======\n",
    "conn = sqlite3.connect('airline2.db')\n",
    "\n",
    "data1999= pd.read_csv(\"1999.csv\")\n",
    "print(data2000.head())\n",
    "data2000= pd.read_csv(\"2000.csv\")\n",
    "print(data2000.shape)\n",
    "\n",
    "#df2 = pd.concat([df, df1], ignore_index=True, sort=False)\n",
    "ontime_df = pd.concat([data1999,data2000], ignore_index=True, sort=False)\n",
    "airports_df = pd.read_csv(\"airports.csv\")\n",
    "carriers_df = pd.read_csv(\"carriers.csv\")\n",
    "planes_df = pd.read_csv(\"plane-data.csv\")\n",
    "#print(ontime_df.tail())\n",
    "print(carriers_df.shape)\n",
    "\n",
    "# ======= statistics summary =======\n",
    "summaryAirports = airports_df.describe(include='all')\n",
    "#print(summaryAirports)\n",
    "\n",
    "summaryCarriers = carriers_df.describe(include='all')\n",
    "#print(summaryCarriers)\n",
    "\n",
    "summaryPlanes = planes_df.describe(include='all')\n",
    "#print(summaryPlanes)\n",
    "\n",
    "summaryOntime = ontime_df.describe(include='all')\n",
    "#print(summaryOntime)"
   ]
  }
 ],
 "metadata": {
  "kernelspec": {
   "display_name": "Python 3 (ipykernel)",
   "language": "python",
   "name": "python3"
  },
  "language_info": {
   "codemirror_mode": {
    "name": "ipython",
    "version": 3
   },
   "file_extension": ".py",
   "mimetype": "text/x-python",
   "name": "python",
   "nbconvert_exporter": "python",
   "pygments_lexer": "ipython3",
   "version": "3.11.4"
  }
 },
 "nbformat": 4,
 "nbformat_minor": 5
}
