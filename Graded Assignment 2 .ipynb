{
 "cells": [
  {
   "cell_type": "code",
   "execution_count": 26,
   "id": "e2692d6b",
   "metadata": {},
   "outputs": [
    {
     "name": "stdout",
     "output_type": "stream",
     "text": [
      "(5527884, 29)\n",
      "(5683047, 29)\n",
      "          Year  Month  DayofMonth  DayOfWeek  DepTime  CRSDepTime  ArrTime  \\\n",
      "11210926  2000     12           9          6    615.0         613    941.0   \n",
      "11210927  2000     12          10          7    619.0         613    925.0   \n",
      "11210928  2000     12          11          1    611.0         613    949.0   \n",
      "11210929  2000     12          12          2    613.0         613   1005.0   \n",
      "11210930  2000     12          13          3    614.0         613    948.0   \n",
      "\n",
      "          CRSArrTime UniqueCarrier  FlightNum  ... TaxiIn  TaxiOut  Cancelled  \\\n",
      "11210926         945            AA        705  ...     11       18          0   \n",
      "11210927         945            AA        705  ...      8       15          0   \n",
      "11210928         945            AA        705  ...      8       12          0   \n",
      "11210929         945            AA        705  ...      9       18          0   \n",
      "11210930         945            AA        705  ...     12       23          0   \n",
      "\n",
      "          CancellationCode  Diverted  CarrierDelay WeatherDelay NASDelay  \\\n",
      "11210926               NaN         0           NaN          NaN      NaN   \n",
      "11210927               NaN         0           NaN          NaN      NaN   \n",
      "11210928               NaN         0           NaN          NaN      NaN   \n",
      "11210929               NaN         0           NaN          NaN      NaN   \n",
      "11210930               NaN         0           NaN          NaN      NaN   \n",
      "\n",
      "          SecurityDelay  LateAircraftDelay  \n",
      "11210926            NaN                NaN  \n",
      "11210927            NaN                NaN  \n",
      "11210928            NaN                NaN  \n",
      "11210929            NaN                NaN  \n",
      "11210930            NaN                NaN  \n",
      "\n",
      "[5 rows x 29 columns]\n",
      "(11210931, 29)\n"
     ]
    }
   ],
   "source": [
    "import sqlite3\n",
    "import os\n",
    "import pandas as pd\n",
    "\n",
    "# change to the directory where the files are stored\n",
    "os.chdir(\"/Users/christopherpang/Desktop/Main/SIM uni year 2/Programming for data science/Coursework/dataverse_files\")\n",
    "\n",
    "try:\n",
    "    os.remove('airline2.db')\n",
    "except OSError:\n",
    "    pass\n",
    "\n",
    "\n",
    "\n",
    "# ======= create database =======\n",
    "conn = sqlite3.connect('airline2.db')\n",
    "\n",
    "data1999= pd.read_csv(\"1999.csv\")\n",
    "print(data1999.shape)\n",
    "data2000= pd.read_csv(\"2000.csv\")\n",
    "print(data2000.shape)\n",
    "\n",
    "#df2 = pd.concat([df, df1], ignore_index=True, sort=False)\n",
    "ontime_df = pd.concat([data1999,data2000], ignore_index=True, sort=False)\n",
    "airports_df = pd.read_csv(\"airports.csv\")\n",
    "carriers_df = pd.read_csv(\"carriers.csv\")\n",
    "planes_df = pd.read_csv(\"plane-data.csv\")\n",
    "print(ontime_df.tail())\n",
    "print(ontime_df.shape)\n",
    "# ======= statistics summary =======\n",
    "summaryAirports = airports_df.describe(include='all')\n",
    "#print(summaryAirports)\n",
    "\n",
    "summaryCarriers = carriers_df.describe(include='all')\n",
    "#print(summaryCarriers)\n",
    "\n",
    "summaryPlanes = planes_df.describe(include='all')\n",
    "#print(summaryPlanes)\n",
    "\n",
    "summaryOntime = ontime_df.describe(include='all')\n",
    "#print(summaryOntime)"
   ]
  }
 ],
 "metadata": {
  "kernelspec": {
   "display_name": "Python 3 (ipykernel)",
   "language": "python",
   "name": "python3"
  },
  "language_info": {
   "codemirror_mode": {
    "name": "ipython",
    "version": 3
   },
   "file_extension": ".py",
   "mimetype": "text/x-python",
   "name": "python",
   "nbconvert_exporter": "python",
   "pygments_lexer": "ipython3",
   "version": "3.11.4"
  }
 },
 "nbformat": 4,
 "nbformat_minor": 5
}
